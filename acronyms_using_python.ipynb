{
 "cells": [
  {
   "cell_type": "code",
   "execution_count": 8,
   "id": "d33a1b3f",
   "metadata": {},
   "outputs": [
    {
     "name": "stdout",
     "output_type": "stream",
     "text": [
      "Enter phrase: machine learning\n",
      "Acronym is:   ML\n"
     ]
    }
   ],
   "source": [
    "user_input = str(input('Enter phrase: '))\n",
    "text = user_input.split()\n",
    "a = ' '\n",
    "for i in text:\n",
    "    a = a + str(i[0]).upper()\n",
    "print('Acronym is: ',a)"
   ]
  },
  {
   "cell_type": "code",
   "execution_count": null,
   "id": "f97df065",
   "metadata": {},
   "outputs": [],
   "source": []
  }
 ],
 "metadata": {
  "kernelspec": {
   "display_name": "Python 3",
   "language": "python",
   "name": "python3"
  },
  "language_info": {
   "codemirror_mode": {
    "name": "ipython",
    "version": 3
   },
   "file_extension": ".py",
   "mimetype": "text/x-python",
   "name": "python",
   "nbconvert_exporter": "python",
   "pygments_lexer": "ipython3",
   "version": "3.8.8"
  },
  "toc": {
   "base_numbering": 1,
   "nav_menu": {},
   "number_sections": true,
   "sideBar": true,
   "skip_h1_title": false,
   "title_cell": "Table of Contents",
   "title_sidebar": "Contents",
   "toc_cell": false,
   "toc_position": {},
   "toc_section_display": true,
   "toc_window_display": false
  }
 },
 "nbformat": 4,
 "nbformat_minor": 5
}
